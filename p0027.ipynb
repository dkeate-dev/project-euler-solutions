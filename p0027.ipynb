{
 "cells": [
  {
   "cell_type": "markdown",
   "metadata": {},
   "source": [
    "## Quadratic Primes\n",
    "\n",
    "Euler discovered the remarkable quadratic formula:\n",
    "\n",
    "$n^2 + n + 41$\n",
    "\n",
    "It turns out that the formula will produce 40 primes for the consecutive integer values $0<=n<=39$. However, when $n=40$, $40^2 + 40 + 41 = 40(40+1) + 41$ is divisible by 41, and certainly when $n=41$, $41^2+41+41$ is clearly divisible by 41.\n",
    "\n",
    "The incredible formula $n^2- 79n + 1601$ was discovered, which produces 80 primes for the consecutive values $0<=n<=79$. The product of the coefficients, −79 and 1601, is −126479.\n",
    "\n",
    "Considering quadratics of the form:\n",
    "\n",
    "&ensp;&ensp;&ensp;&ensp;$n^2 + an + b$, where $|a| < 1000$ and $|b| <= 1000$\n",
    "\n",
    "&ensp;&ensp;&ensp;&ensp;where $|n|$ is the modulus/absolute value of n\n",
    "\n",
    "&ensp;&ensp;&ensp;&ensp;e.g. $|11| = 11$ and $|-4| = 4$\n",
    "\n",
    "Find the product of the coefficients, a and b, for the quadratic expression that produces the maximum number of primes for consecutive values of n, starting with $n=0$."
   ]
  },
  {
   "cell_type": "markdown",
   "metadata": {},
   "source": [
    "## Implementation\n",
    "\n",
    "Copyright 2023, Dustin Keate, All rights reserved.\n",
    "\n",
    "First, implement a reusable implementation of the [Sieve of Eratosthenes](https://en.wikipedia.org/wiki/Sieve_of_Eratosthenes) for future use as well."
   ]
  },
  {
   "cell_type": "code",
   "execution_count": 1,
   "metadata": {},
   "outputs": [],
   "source": [
    "def sieve(max : int) -> [int]:\n",
    "    test_list = [True for i in range(max + 1)]\n",
    "    test_list[0] = False\n",
    "    test_list[1] = False\n",
    "\n",
    "    primes = []\n",
    "    \n",
    "    highest_index = len(test_list) - 1\n",
    "    next_check = 2\n",
    "    multiplier = 2\n",
    "    next_non_prime = multiplier * next_check\n",
    "\n",
    "    while next_check <= highest_index:\n",
    "        if test_list[next_check]:\n",
    "            primes.append(next_check)\n",
    "            while next_non_prime <= highest_index:\n",
    "                test_list[next_non_prime] = False\n",
    "                multiplier += 1\n",
    "                next_non_prime = multiplier * next_check\n",
    "        next_check += 1\n",
    "        multiplier = 2\n",
    "        next_non_prime = multiplier * next_check\n",
    "\n",
    "    return primes"
   ]
  },
  {
   "cell_type": "markdown",
   "metadata": {},
   "source": [
    "Next, write a function that takes a quadratic and determines the number of primes it creates according to the rules."
   ]
  },
  {
   "cell_type": "code",
   "execution_count": 2,
   "metadata": {},
   "outputs": [],
   "source": [
    "def find_num_primes(a,b,max_prime,primes):\n",
    "    n = 0\n",
    "    while n*n + a*n + b in primes and n*n + a*n + b < max_prime:\n",
    "        n += 1\n",
    "    return n"
   ]
  },
  {
   "cell_type": "markdown",
   "metadata": {},
   "source": [
    "Finally, make a large primes list, since primes are cheap to find now. Large because I don't know how high the results of this problem will go. Check this list against... let's see... around 4,000,000 pairs.\n",
    "\n",
    "Thinking about this logically:\n",
    "- n starts at zero, so b must be prime and positive when $n = 0$.\n",
    "- 168 primes are $< 1000$. Number of pairs is now 336,000."
   ]
  },
  {
   "cell_type": "code",
   "execution_count": 3,
   "metadata": {},
   "outputs": [
    {
     "name": "stdout",
     "output_type": "stream",
     "text": [
      "(-999, 2) 1\n",
      "(-996, 997) 2\n",
      "(-499, 997) 3\n",
      "(-325, 977) 4\n",
      "(-245, 977) 5\n",
      "(-197, 983) 6\n",
      "(-163, 983) 7\n",
      "(-131, 941) 8\n",
      "(-121, 947) 9\n",
      "(-105, 967) 11\n",
      "(-61, 971) 71\n",
      "(-61, 971)\n"
     ]
    }
   ],
   "source": [
    "max_prime = 10000\n",
    "primes = sieve(max_prime)\n",
    "b_list = sieve(1000)\n",
    "result = None\n",
    "result_max = 0\n",
    "\n",
    "for a in range(-999,1000):\n",
    "    for b in b_list:\n",
    "        check = find_num_primes(a,b,max_prime,primes)\n",
    "        if check > result_max:\n",
    "            result = (a,b)\n",
    "            result_max = check\n",
    "            print(result, result_max)\n",
    "\n",
    "print(result)"
   ]
  },
  {
   "cell_type": "markdown",
   "metadata": {},
   "source": [
    "Wow, that's slow. I improved it by reducing the number of primes generated (and therefore, searched). This basically ignores the possibility that positive a and b could be a solution. I'm a cheater."
   ]
  }
 ],
 "metadata": {
  "kernelspec": {
   "display_name": ".venv",
   "language": "python",
   "name": "python3"
  },
  "language_info": {
   "codemirror_mode": {
    "name": "ipython",
    "version": 3
   },
   "file_extension": ".py",
   "mimetype": "text/x-python",
   "name": "python",
   "nbconvert_exporter": "python",
   "pygments_lexer": "ipython3",
   "version": "3.10.6"
  },
  "orig_nbformat": 4,
  "vscode": {
   "interpreter": {
    "hash": "92afc4c3a9fc9d609f7b44f148bdb3e3be00bcb745a21432c5714aed1074d22b"
   }
  }
 },
 "nbformat": 4,
 "nbformat_minor": 2
}
